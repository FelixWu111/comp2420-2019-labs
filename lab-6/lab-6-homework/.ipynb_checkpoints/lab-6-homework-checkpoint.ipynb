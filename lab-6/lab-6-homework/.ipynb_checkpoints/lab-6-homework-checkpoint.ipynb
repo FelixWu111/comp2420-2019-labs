{
 "cells": [
  {
   "cell_type": "markdown",
   "metadata": {},
   "source": [
    "<h1 align='center'> COMP2420/COMP6420 - Introduction to Data Management, Analysis and Security</h1>\n",
    "\n",
    "<h2 align='center'> Homework Assessment 03</h2>\n",
    "\n",
    "*****\n",
    "\n",
    "Back from the break, and what a way to start ! Another set of questions !\n",
    "The folloing **4 questions** should test your understanding of the lecture and lab material taught during the lectures and the lab exercises in **Weeks 5 & 6**. In the **next lab (Lab 06)**, you'll be asked to complete any one of these exercises by your tutor in **Exam Mode**. Upon completion, you'll be marked by your tutor, based on the correctness and completeness of your solution."
   ]
  },
  {
   "cell_type": "code",
   "execution_count": 1,
   "metadata": {},
   "outputs": [],
   "source": [
    "# RUN THIS CELL TO IMPORT THE REQUIRED MODULES\n",
    "import pandas as pd\n",
    "import numpy as np\n",
    "import matplotlib.pyplot as plt\n",
    "%matplotlib inline\n",
    "import seaborn as sns\n",
    "from sklearn.linear_model import LinearRegression\n",
    "from sklearn.model_selection import train_test_split\n",
    "from sklearn.linear_model import SGDClassifier\n",
    "plt.style.use('seaborn')"
   ]
  },
  {
   "cell_type": "code",
   "execution_count": 2,
   "metadata": {},
   "outputs": [],
   "source": [
    "mobile_data = pd.read_csv('data/mobiles.csv')\n",
    "car_data = pd.read_csv('data/supercars.csv')"
   ]
  },
  {
   "cell_type": "markdown",
   "metadata": {},
   "source": [
    "### Dataset 1: Mobile Madness\n",
    "\n",
    "Mobile phones are constantly envolving and the prices are only increasing as time goes on. Is there a rhyme or reason to the pricing? We hope to use the dataset to find out. The dataset `mobiles` has the following features:\n",
    "\n",
    "| **Feature** | **Description** |\n",
    "| ----------- | --------------- |\n",
    "| blue        | Whether device has bluetooth {Yes: 1, No: 0}|\n",
    "| clock_speed | speed of the processor |\n",
    "| dual_sim    | whether the device can hold two unique sim cards {Yes: 1, No: 0} |\n",
    "| fc          | Megapixels in the front camera |\n",
    "| four_g      | Whether the device is 4g compatible {Yes: 1, No: 0} |\n",
    "| int_memory  | Internal Memory of the device (in GB) |\n",
    "| n_cores     | Number of Cores in the processor |\n",
    "| pc          | Back Camera Megapixels |\n",
    "| ram         | RAM of device (in MB) |\n",
    "| sc_h        | Screen Height |\n",
    "| sc_w        | Screen Width |\n",
    "| talk_time   | Time it takes on a call to drain the battery on a 3G call from 100% to 0%|\n",
    "| three_g     | Whether the device is 3G compatible {Yes: 1, No: 0} |\n",
    "| touch_screen| Whether the device has a touchscreen {Yes: 1, No: 0} |\n",
    "| wifi        | Whether the device has wifi compatability {Yes: 1, No: 0} | \n",
    "| price_range | Price range of the device {Low: 0, Medium: 1, High: 2, Very High: 3} |"
   ]
  },
  {
   "cell_type": "markdown",
   "metadata": {},
   "source": [
    "### Dataset 2: Supreme Supercars\n",
    "\n",
    "While we have worked with car datasets before, sometimes we only want to work with the best. Below is the features present within the `supercars` dataset\n",
    "\n",
    "| **Feature** | **Description** |\n",
    "| ----------- | --------------- |\n",
    "| car_full_nm        | Full name of car|\n",
    "| horsepower_bhp | Input break horsepower of the car |\n",
    "| rpm_horsepower_measure_point    | RPM the horsepower was measured at |\n",
    "| torque_lb_ft          | Torque (pounds per foot) |\n",
    "| rpm_torque_measure_point      | RPM the torque was measured at |\n",
    "| car_0_60_time_seconds  | Time for car to reach 0-60 |\n",
    "| engine_size_cc     | Engine size (cubic cms) |\n",
    "| engine_size_ci          | Engine size (cubic in) |\n",
    "| top_speed_mph         | Top Speed (Miles per hour) |\n",
    "| top_speed_kph        | Top Speed (KM per hour) |\n",
    "| horsepower_per_ton_bhp        | BHP per ton |\n",
    "| year   | Year made |\n",
    "| decade     | Decade of release |\n",
    "| make_nm | Manufacturer of Vehicle |\n",
    "| car_weight_tons        | Car weight in tons | \n",
    "| torque_per_ton | Torque per ton |"
   ]
  },
  {
   "cell_type": "markdown",
   "metadata": {},
   "source": [
    "### Exercise 1: Lets talk prices (Using Dataset #1)\n",
    "\n",
    "Xu poses of the question of whether the `talk time` of a device increases as the `price range` increases. Visualise the relationship between the price range categories and the average talk time, and explain the correlation (or lack of) between the two variables."
   ]
  },
  {
   "cell_type": "code",
   "execution_count": 48,
   "metadata": {},
   "outputs": [
    {
     "data": {
      "text/plain": [
       "Text(0.5,1,'price range vs average talk time')"
      ]
     },
     "execution_count": 48,
     "metadata": {},
     "output_type": "execute_result"
    },
    {
     "data": {
      "image/png": "[encoded data removed]",
      "text/plain": [
       "<Figure size 432x288 with 1 Axes>"
      ]
     },
     "metadata": {},
     "output_type": "display_data"
    }
   ],
   "source": [
    "# Enter code here\n",
    "x = mobile_data.groupby('price_range').talk_time.mean()\n",
    "plt.plot(mobile_data.price_range.sort_values().unique(),x)\n",
    "plt.xlabel('price range', fontsize = 18)\n",
    "plt.ylabel('average talk time', fontsize = 18)\n",
    "plt.title('price range vs average talk time', fontsize = 18)"
   ]
  },
  {
   "cell_type": "markdown",
   "metadata": {},
   "source": [
    "#### Explination of Correlation\n",
    "    - Add Explination here\n",
    "    Explaination: talk time only increases in the 0-1 price range. It decreases with price in the 1-2 range and then raises slowly in the range 2-3."
   ]
  },
  {
   "cell_type": "markdown",
   "metadata": {},
   "source": [
    "### Exercise 2: More Power! (Using Dataset #2)\n",
    "\n",
    "Power isn't everything in a car, but it certainly helps. With 1500 different supercars of the previous 8 decades, it will be interesting to see how times have changed over the past 80 years. Your task is as follows:\n",
    "- Provide the mean, standard deviation, min and max values of `horsepower_bhp` and `engine_size_cc`\n",
    "- Provide the **Variance** of `horsepower_bhp` for cars in their respective decades. Provide the measure of variability for each decade as specified by the `decade` column in the DataFrame."
   ]
  },
  {
   "cell_type": "code",
   "execution_count": 13,
   "metadata": {},
   "outputs": [
    {
     "name": "stdout",
     "output_type": "stream",
     "text": [
      "mean:  304.65589353612165   3594.7680608365017 \n",
      " standard deviation:  163.01043952041215   1737.4141065086992 \n",
      " max: 1184 8382.0 \n",
      " min:  34 0.0\n",
      "decade\n",
      "1930     7688.000000\n",
      "1940      714.142857\n",
      "1950     7004.890977\n",
      "1960    10925.671723\n",
      "1970    11098.572000\n",
      "1980     7709.278032\n",
      "1990    13474.160759\n",
      "2000    27391.096419\n",
      "2010    37205.000693\n",
      "Name: horsepower_bhp, dtype: float64 \n",
      " 306.5119392920874\n"
     ]
    }
   ],
   "source": [
    "# Enter Code Here\n",
    "# Statistics of items\n",
    "hp = car_data.horsepower_bhp\n",
    "es = car_data.engine_size_cc\n",
    "print('mean: ', hp.mean(), ' ', es.mean(), '\\n','standard deviation: ', hp.std(), ' ', es.std(), '\\n','max:', hp.max(), es.max(), '\\n', 'min: ',hp.min(), es.min())\n",
    "hp_dc = car_data.groupby('decade').horsepower_bhp.var()\n",
    "mov = car_data.decade.var()\n",
    "print(hp_dc, '\\n', mov)"
   ]
  },
  {
   "cell_type": "markdown",
   "metadata": {},
   "source": [
    "### Exercise 3: This Makes My Head Score (Using Dataset #1)\n",
    "\n",
    "The score of any machine learning model will always be an important factor for determining how good the data you produce is, but there may be many different ways to do this. Your task is as follows:\n",
    "- Seperate the data such that your target column is `price_range`\n",
    "- Using the function provided to test the features, find the **smallest subset of the possible features** such that the **score of the model is over 0.4** \n",
    "\n",
    "Note: The classifier may return different values each time you run it for the same data since it will always start at a different point for determining the split. You're welcome to call the function within a loop to check the max possible value\n",
    "Note_2: If you use `price_range` in your features to predict `price_range`, you will receive an automatic grade of 0. This is a trivial model."
   ]
  },
  {
   "cell_type": "code",
   "execution_count": 5,
   "metadata": {},
   "outputs": [],
   "source": [
    "# Testing Function\n",
    "def scoring25(x, y, iterations=50):\n",
    "    x_train, x_test, y_train, y_test = train_test_split(x,y, random_state=42)\n",
    "    sgd = SGDClassifier(max_iter=iterations, tol=1e-3)\n",
    "    sgd.fit(x_train,y_train)\n",
    "    return sgd.score(x_test, y_test)"
   ]
  },
  {
   "cell_type": "code",
   "execution_count": 71,
   "metadata": {},
   "outputs": [
    {
     "name": "stdout",
     "output_type": "stream",
     "text": [
      "0.506 ['ram', 'sc_h']\n"
     ]
    }
   ],
   "source": [
    "# TODO: Select the most appropiate features as per the question out of the dataset and call the function above.\n",
    "# Note: If you wish for the model to train more on the data until it reaches convergence, you can simply add an 'iterations=number' (where number is the number of iterations) to train the data for longer\n",
    "y = mobile_data.price_range\n",
    "x = mobile_data[['ram', 'sc_h']]\n",
    "print(np.max([scoring25(x, y, iterations = 150) for a in range (0, 100)]),['ram', 'sc_h'])"
   ]
  },
  {
   "cell_type": "markdown",
   "metadata": {},
   "source": [
    "### Exercise 4: Predicting Speed (Using Dataset #2)\n",
    "\n",
    "Linear Regression, back once again! We hope to use the data we have to impliment a linear regression model that will predict the `car_0_60_time_seconds` feature. Impliment a Linear Regression function that uses **as many features as possible** while still having an R^2 over 0.35"
   ]
  },
  {
   "cell_type": "code",
   "execution_count": 9,
   "metadata": {},
   "outputs": [],
   "source": [
    "# Testing function\n",
    "def lmscore(x,y):\n",
    "    x_train, x_test, y_train, y_test = train_test_split(x,y, random_state=3)\n",
    "    lm = LinearRegression()\n",
    "    lm.fit(x_train, y_train)\n",
    "    return lm.score(x_test, y_test)"
   ]
  },
  {
   "cell_type": "code",
   "execution_count": 14,
   "metadata": {},
   "outputs": [
    {
     "name": "stdout",
     "output_type": "stream",
     "text": [
      "0.4809532060959825 \n",
      " use in total  12  features\n"
     ]
    }
   ],
   "source": [
    "# TODO: Select the most appropiate features as per the question out of the dataset and call the function above.\n",
    "# print(lmscore(np.array(car_data.rpm_horsepower_measure_point).reshape(-1, 1),car_data.car_0_60_time_seconds), '\\n')\n",
    "result = car_data.car_0_60_time_seconds\n",
    "features = car_data.drop(['car_0_60_time_seconds', 'car_full_nm', 'make_nm','Unnamed: 0','decade'], axis = 1)\n",
    "print(lmscore(features, result), '\\n', 'use in total ', features.shape[1], ' features')"
   ]
  },
  {
   "cell_type": "code",
   "execution_count": null,
   "metadata": {},
   "outputs": [],
   "source": []
  }
 ],
 "metadata": {
  "kernelspec": {
   "display_name": "Python 3",
   "language": "python",
   "name": "python3"
  },
  "language_info": {
   "codemirror_mode": {
    "name": "ipython",
    "version": 3
   },
   "file_extension": ".py",
   "mimetype": "text/x-python",
   "name": "python",
   "nbconvert_exporter": "python",
   "pygments_lexer": "ipython3",
   "version": "3.6.8"
  }
 },
 "nbformat": 4,
 "nbformat_minor": 2
}

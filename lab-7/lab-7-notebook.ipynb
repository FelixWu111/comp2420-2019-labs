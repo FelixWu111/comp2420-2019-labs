{
 "cells": [
  {
   "cell_type": "markdown",
   "metadata": {},
   "source": [
    "<h1 align='center'> COMP2420/COMP6420 - Introduction to Data Management, Analysis and Security</h1>\n",
    "\n",
    "<h2 align='center'> Lab 07 - Machine Learning - III</h2>\n",
    "\n",
    "*****\n",
    "\n",
    "In this lab, we will have a look at **Unsupervised Machine Learning** and then working on a particular algorithm of Unsupervised Learning called **K-Means Clustering**.  \n",
    "\n",
    "<br/>\n",
    "\n",
    "### Unsupervised Learning \n",
    "**Unsupervised Learning** is a class of Machine Learning techniques that find patterns in data. The data given to an unsupervised algorithm are **unlabelled**, which means only the input variables (x) are given with no corresponding output variables. So, an unsupervised learning algorithm is meant to derive strucutre from data without any previous knowledge of what the variables are. In unsupervised learning, the algorithms are left to themselves to discover interesting structures in the data.\n",
    "\n",
    "<br/>\n",
    "\n",
    "### Supervised vs. Unsupervised Learning\n",
    "In **Supervised Learning**, the constructed model tries to learn from the examples of inputs and outputs that are already provided to it to train it. On the other hand, in **Unsupervised Learning**, the model attempts to find the patterns directly from the given data. So, if the dataset is labelled it comes under a supervised problem, and if the dataset is unlabelled then it is an unsupervised problem.\n",
    "\n",
    "<img src=\"./images/sup_vs_unsup.png\" /> \n",
    "Source: [CambridgeSparks - Overview of Data Science](http://beta.cambridgespark.com/courses/jpm/01-module.html)"
   ]
  },
  {
   "cell_type": "markdown",
   "metadata": {},
   "source": [
    "<br/>\n",
    "\n",
    "## K-Means Clustering\n",
    "\n",
    "**K-Means Clustering** is a type of **unsupervised** machine learning algorithm, in which we can cluster the data points based on their proximity to a centroid point. Thus, the given data set is divided into _k_ number of clusters. It does this using the following steps - \n",
    "\n",
    "1. The number of clusters **(k)** are picked, and each cluster is represented by its centroid point.\n",
    "\n",
    "2. Each data point becomes part of a cluster based on its proximity to the nearest centroids, thereby forming **k clusters**.\n",
    "\n",
    "3. Based on these clusters, the centroid of each cluster is **re-calculated to get new centroids**.\n",
    "\n",
    "4. **Steps 2 and 3 are repeated** to find the closest distance for each data point from new centroids and get associated with its closest clusters until **convergence** occurs (no change in centroids).\n",
    "\n",
    "<img src='./images/kmeans.png' height='40px'><br/>\n",
    "<span style='align:right;'><b>Source:</b> [Maciej Pacula >> k-means Clustering](http://blog.mpacula.com/2011/04/27/k-means-clustering-example-python/)</span>\n",
    "\n",
    "<br/>\n",
    "\n",
    "## Exercise 1: Shoppers' Flock\n",
    "\n",
    "Using clustering in business problems, we can cluster our data to find out groups of them by age, salary, gender or any other feature that you have in your dataset. By doing this we can find the best strategy to succeed in a market. Let's do a clustering of the shoppers visiting a shopping mall, to find out what we can find out about these shoppers."
   ]
  },
  {
   "cell_type": "code",
   "execution_count": 1,
   "metadata": {},
   "outputs": [],
   "source": [
    "import numpy as np\n",
    "import pandas as pd \n",
    "import matplotlib.pyplot as plt\n",
    "%matplotlib inline\n",
    "\n",
    "from sklearn.preprocessing import LabelEncoder\n",
    "from sklearn.decomposition import PCA\n",
    "from sklearn.cluster import KMeans"
   ]
  },
  {
   "cell_type": "code",
   "execution_count": 2,
   "metadata": {},
   "outputs": [
    {
     "data": {
      "text/html": [
       "<div>\n",
       "<style scoped>\n",
       "    .dataframe tbody tr th:only-of-type {\n",
       "        vertical-align: middle;\n",
       "    }\n",
       "\n",
       "    .dataframe tbody tr th {\n",
       "        vertical-align: top;\n",
       "    }\n",
       "\n",
       "    .dataframe thead th {\n",
       "        text-align: right;\n",
       "    }\n",
       "</style>\n",
       "<table border=\"1\" class=\"dataframe\">\n",
       "  <thead>\n",
       "    <tr style=\"text-align: right;\">\n",
       "      <th></th>\n",
       "      <th>CustomerID</th>\n",
       "      <th>Gender</th>\n",
       "      <th>Age</th>\n",
       "      <th>Annual Income (k$)</th>\n",
       "      <th>Spending Score (1-100)</th>\n",
       "    </tr>\n",
       "  </thead>\n",
       "  <tbody>\n",
       "    <tr>\n",
       "      <th>0</th>\n",
       "      <td>1</td>\n",
       "      <td>Male</td>\n",
       "      <td>19</td>\n",
       "      <td>15</td>\n",
       "      <td>39</td>\n",
       "    </tr>\n",
       "    <tr>\n",
       "      <th>1</th>\n",
       "      <td>2</td>\n",
       "      <td>Male</td>\n",
       "      <td>21</td>\n",
       "      <td>15</td>\n",
       "      <td>81</td>\n",
       "    </tr>\n",
       "    <tr>\n",
       "      <th>2</th>\n",
       "      <td>3</td>\n",
       "      <td>Female</td>\n",
       "      <td>20</td>\n",
       "      <td>16</td>\n",
       "      <td>6</td>\n",
       "    </tr>\n",
       "    <tr>\n",
       "      <th>3</th>\n",
       "      <td>4</td>\n",
       "      <td>Female</td>\n",
       "      <td>23</td>\n",
       "      <td>16</td>\n",
       "      <td>77</td>\n",
       "    </tr>\n",
       "    <tr>\n",
       "      <th>4</th>\n",
       "      <td>5</td>\n",
       "      <td>Female</td>\n",
       "      <td>31</td>\n",
       "      <td>17</td>\n",
       "      <td>40</td>\n",
       "    </tr>\n",
       "  </tbody>\n",
       "</table>\n",
       "</div>"
      ],
      "text/plain": [
       "   CustomerID  Gender  Age  Annual Income (k$)  Spending Score (1-100)\n",
       "0           1    Male   19                  15                      39\n",
       "1           2    Male   21                  15                      81\n",
       "2           3  Female   20                  16                       6\n",
       "3           4  Female   23                  16                      77\n",
       "4           5  Female   31                  17                      40"
      ]
     },
     "execution_count": 2,
     "metadata": {},
     "output_type": "execute_result"
    }
   ],
   "source": [
    "df_customers = pd.read_csv(\"data/customers.csv\")\n",
    "df_customers.head()"
   ]
  },
  {
   "cell_type": "markdown",
   "metadata": {},
   "source": [
    "In this data, we have no use for the **CustomerID** column, as we don't need to uniquely identify any of the customers. Also, we need to encode **Gender** to a numeric figure, so that it's easier to cluster.\n",
    "\n",
    "1. Remove the column **CustomerID** from the dataframe, and encode the column **Gender** to a series of **0 (for Female)** and **1 (for Male)**."
   ]
  },
  {
   "cell_type": "code",
   "execution_count": 3,
   "metadata": {},
   "outputs": [
    {
     "data": {
      "text/html": [
       "<div>\n",
       "<style scoped>\n",
       "    .dataframe tbody tr th:only-of-type {\n",
       "        vertical-align: middle;\n",
       "    }\n",
       "\n",
       "    .dataframe tbody tr th {\n",
       "        vertical-align: top;\n",
       "    }\n",
       "\n",
       "    .dataframe thead th {\n",
       "        text-align: right;\n",
       "    }\n",
       "</style>\n",
       "<table border=\"1\" class=\"dataframe\">\n",
       "  <thead>\n",
       "    <tr style=\"text-align: right;\">\n",
       "      <th></th>\n",
       "      <th>Gender</th>\n",
       "      <th>Age</th>\n",
       "      <th>Annual Income (k$)</th>\n",
       "      <th>Spending Score (1-100)</th>\n",
       "    </tr>\n",
       "  </thead>\n",
       "  <tbody>\n",
       "    <tr>\n",
       "      <th>0</th>\n",
       "      <td>1</td>\n",
       "      <td>19</td>\n",
       "      <td>15</td>\n",
       "      <td>39</td>\n",
       "    </tr>\n",
       "    <tr>\n",
       "      <th>1</th>\n",
       "      <td>1</td>\n",
       "      <td>21</td>\n",
       "      <td>15</td>\n",
       "      <td>81</td>\n",
       "    </tr>\n",
       "    <tr>\n",
       "      <th>2</th>\n",
       "      <td>0</td>\n",
       "      <td>20</td>\n",
       "      <td>16</td>\n",
       "      <td>6</td>\n",
       "    </tr>\n",
       "    <tr>\n",
       "      <th>3</th>\n",
       "      <td>0</td>\n",
       "      <td>23</td>\n",
       "      <td>16</td>\n",
       "      <td>77</td>\n",
       "    </tr>\n",
       "    <tr>\n",
       "      <th>4</th>\n",
       "      <td>0</td>\n",
       "      <td>31</td>\n",
       "      <td>17</td>\n",
       "      <td>40</td>\n",
       "    </tr>\n",
       "  </tbody>\n",
       "</table>\n",
       "</div>"
      ],
      "text/plain": [
       "   Gender  Age  Annual Income (k$)  Spending Score (1-100)\n",
       "0       1   19                  15                      39\n",
       "1       1   21                  15                      81\n",
       "2       0   20                  16                       6\n",
       "3       0   23                  16                      77\n",
       "4       0   31                  17                      40"
      ]
     },
     "execution_count": 3,
     "metadata": {},
     "output_type": "execute_result"
    }
   ],
   "source": [
    "# YOUR ANSWER HERE\n",
    "df_customers = df_customers.drop('CustomerID', axis = 1)\n",
    "df_customers['Gender'] = df_customers['Gender'].map({'Female': 0, 'Male': 1})\n",
    "df_customers.head()"
   ]
  },
  {
   "cell_type": "markdown",
   "metadata": {},
   "source": [
    "2. Use Scikit-Learn's **K-Means Clustering** to cluster this data into **5 clusters**. Plot a **scatterplot** to visualize and verify your 5 clusters."
   ]
  },
  {
   "cell_type": "code",
   "execution_count": 4,
   "metadata": {},
   "outputs": [
    {
     "data": {
      "image/png": "[encoded data removed]",
      "text/plain": [
       "<Figure size 432x288 with 1 Axes>"
      ]
     },
     "metadata": {},
     "output_type": "display_data"
    }
   ],
   "source": [
    "# YOUR ANSWER HERE\n",
    "X=df_customers.iloc[:, 1:3].values\n",
    "kmeans=KMeans(n_clusters=5, init='k-means++', max_iter= 300, n_init= 10, random_state= 0)\n",
    "y_kmeans=kmeans.fit_predict(X)\n",
    "\n",
    "plt.scatter(X[:,0], X[:,1], s = 200, c=kmeans.labels_.astype(float))\n",
    "plt.scatter(kmeans.cluster_centers_[:, 0], kmeans.cluster_centers_[:, 1], s = 250, c = 'orange', label='Centroids')\n",
    "plt.show()\n",
    "\n",
    "# plt.scatter(X[y_kmeans == 0, 0], X[y_kmeans == 0, 1], s = 200, c = 'red', label='1231231231312')\n",
    "# plt.scatter(X[y_kmeans == 2, 0], X[y_kmeans == 2, 1], s = 200, c = 'green')\n",
    "# plt.scatter(X[y_kmeans == 3, 0], X[y_kmeans == 3, 1], s = 200, c = 'yellow')\n",
    "# plt.scatter(X[y_kmeans == 4, 0], X[y_kmeans == 4, 1], s = 200, c = 'black')\n",
    "# plt.scatter(X[y_kmeans == 1, 0], X[y_kmeans == 1, 1], s = 200, c = 'blue')"
   ]
  },
  {
   "cell_type": "markdown",
   "metadata": {},
   "source": [
    "Now comes the fun part! \n",
    "\n",
    "3. Convert each of these clusters into a dataframe, and analyse each of these clusters. Discuss your findings from these statistics.\n",
    "\n",
    "<span style='color:blue;'>**HINT** - Your analysis can include studying the mean age, average annual income & deviation in income, size of each cluster and male-female ratio of each cluster.</span>  "
   ]
  },
  {
   "cell_type": "code",
   "execution_count": 19,
   "metadata": {},
   "outputs": [
    {
     "data": {
      "text/html": [
       "<div>\n",
       "<style scoped>\n",
       "    .dataframe tbody tr th:only-of-type {\n",
       "        vertical-align: middle;\n",
       "    }\n",
       "\n",
       "    .dataframe tbody tr th {\n",
       "        vertical-align: top;\n",
       "    }\n",
       "\n",
       "    .dataframe thead th {\n",
       "        text-align: right;\n",
       "    }\n",
       "</style>\n",
       "<table border=\"1\" class=\"dataframe\">\n",
       "  <thead>\n",
       "    <tr style=\"text-align: right;\">\n",
       "      <th></th>\n",
       "      <th>Gender</th>\n",
       "      <th>Age</th>\n",
       "      <th>Annual Income (k$)</th>\n",
       "      <th>Spending Score (1-100)</th>\n",
       "      <th>Cluster_Number</th>\n",
       "    </tr>\n",
       "  </thead>\n",
       "  <tbody>\n",
       "    <tr>\n",
       "      <th>0</th>\n",
       "      <td>1</td>\n",
       "      <td>19</td>\n",
       "      <td>15</td>\n",
       "      <td>0</td>\n",
       "      <td>1</td>\n",
       "    </tr>\n",
       "    <tr>\n",
       "      <th>1</th>\n",
       "      <td>1</td>\n",
       "      <td>21</td>\n",
       "      <td>15</td>\n",
       "      <td>1</td>\n",
       "      <td>1</td>\n",
       "    </tr>\n",
       "    <tr>\n",
       "      <th>2</th>\n",
       "      <td>0</td>\n",
       "      <td>20</td>\n",
       "      <td>16</td>\n",
       "      <td>0</td>\n",
       "      <td>1</td>\n",
       "    </tr>\n",
       "    <tr>\n",
       "      <th>3</th>\n",
       "      <td>0</td>\n",
       "      <td>23</td>\n",
       "      <td>16</td>\n",
       "      <td>1</td>\n",
       "      <td>1</td>\n",
       "    </tr>\n",
       "    <tr>\n",
       "      <th>4</th>\n",
       "      <td>0</td>\n",
       "      <td>31</td>\n",
       "      <td>17</td>\n",
       "      <td>0</td>\n",
       "      <td>1</td>\n",
       "    </tr>\n",
       "  </tbody>\n",
       "</table>\n",
       "</div>"
      ],
      "text/plain": [
       "   Gender  Age  Annual Income (k$)  Spending Score (1-100)  Cluster_Number\n",
       "0       1   19                  15                       0               1\n",
       "1       1   21                  15                       1               1\n",
       "2       0   20                  16                       0               1\n",
       "3       0   23                  16                       1               1\n",
       "4       0   31                  17                       0               1"
      ]
     },
     "execution_count": 19,
     "metadata": {},
     "output_type": "execute_result"
    }
   ],
   "source": [
    "# YOUR ANSWER HERE\n",
    "# Insert a separate column for Cluster Number\n",
    "df=df_customers\n",
    "df['Cluster_Number'] = kmeans.labels_.tolist()\n",
    "df.head()\n",
    "\n",
    "# Separate into different dataframes based on Cluster Number \n",
    "c0=df[df.Cluster_Number == 0]\n",
    "c1=df[df.Cluster_Number == 1]\n",
    "c2=df[df.Cluster_Number == 2]\n",
    "c3=df[df.Cluster_Number == 3]\n",
    "c4=df[df.Cluster_Number == 4]\n",
    "\n",
    "\n",
    "# Show the top five rows\n",
    "c0.head(5)\n",
    "c1.head(5)\n",
    "c2.head(5)\n",
    "c3.head(5)\n",
    "c4.head(5)\n"
   ]
  },
  {
   "cell_type": "code",
   "execution_count": 6,
   "metadata": {},
   "outputs": [],
   "source": [
    "# YOUR ANSWER HERE\n",
    "# Group and analyse the statistics from each cluster\n",
    "\n",
    "\n"
   ]
  },
  {
   "cell_type": "code",
   "execution_count": 7,
   "metadata": {},
   "outputs": [],
   "source": [
    "# DISCUSS YOUR FINDINGS\n",
    "\n"
   ]
  },
  {
   "cell_type": "markdown",
   "metadata": {},
   "source": [
    "## Exercise 2: Meticulous Metrics\n",
    "\n",
    "While over the last 3 machine learning labs we have created and implemented models in regression and classification scenarios, we have yet to dive into the types of metrics that can be used to show the performance of your model/s.\n",
    "\n",
    "***\n",
    "**Extension:** While this question is designed to introduce and/or refresh your memory about metrics, if you are familar and are looking for extra work, try to implement the scoring functions manually. This can be important going further in machine learning as it is necessary for custom metrics in use of packages such as Keras or Tensorflow.\n",
    "***"
   ]
  },
  {
   "cell_type": "code",
   "execution_count": 8,
   "metadata": {},
   "outputs": [],
   "source": [
    "import sklearn.metrics as skm\n",
    "from sklearn.linear_model import LinearRegression\n",
    "from sklearn.model_selection import train_test_split"
   ]
  },
  {
   "cell_type": "markdown",
   "metadata": {},
   "source": [
    "### 2.1: Regression Metrics\n",
    "\n",
    "First stop on the trip back memory lane, we will begin with Regression Metrics. To have usable data to perform metric analysis on perform the following tasks:\n",
    "- Split your dataset into testing and training data: your training dataset should be 65% of the original dataset. (HINT: This can be set in the train_test_split function)\n",
    "- Implement a Linear Regression model using **Spending Score** as the output. Use any features other than **Spending Score**. Fit the model on your training data.\n",
    "- Predict the outputs of the testing set and have this data ready to go for the metrics analysis."
   ]
  },
  {
   "cell_type": "code",
   "execution_count": 9,
   "metadata": {},
   "outputs": [],
   "source": [
    "# YOUR ANSWER HERE\n",
    "\n",
    "data_x=df_customers.drop('Spending Score (1-100)',axis=1)\n",
    "data_y=df_customers[['Spending Score (1-100)']]\n",
    "\n",
    "ts=0.35\n",
    "rs=0\n",
    "\n",
    "x_train_set, x_test_set, y_train_set, y_test_set = train_test_split(data_x, data_y,test_size=ts ,random_state=rs)\n",
    "\n",
    "lm = LinearRegression()\n",
    "lm.fit(x_train_set,y_train_set)\n",
    "\n",
    "estimate=lm.predict(x_test_set)\n"
   ]
  },
  {
   "cell_type": "markdown",
   "metadata": {},
   "source": [
    "Now that you have predicted and actual outputs, it is comparison time ! Implement the following functions:\n",
    "\n",
    "#### __R^2 (The refresher)__\n",
    "Using sklearn, implement the R^2 scoring functions using the inbuilt Linear Regression model function and the metrics module"
   ]
  },
  {
   "cell_type": "code",
   "execution_count": 10,
   "metadata": {},
   "outputs": [
    {
     "data": {
      "text/plain": [
       "0.12333650193260726"
      ]
     },
     "execution_count": 10,
     "metadata": {},
     "output_type": "execute_result"
    }
   ],
   "source": [
    "# YOUR ANSWER HERE\n",
    "lm.score(x_test_set,y_test_set)"
   ]
  },
  {
   "cell_type": "markdown",
   "metadata": {},
   "source": [
    "#### __MAE (Mean Absolute Error)__\n",
    "MAE is the mean measure of difference between two continuous variables. This can help determine the error between the predicted and actual outputs for predicted sets. Implement MAE using the sklearn metrics module and provide the score for the predictions above."
   ]
  },
  {
   "cell_type": "code",
   "execution_count": 11,
   "metadata": {},
   "outputs": [
    {
     "name": "stdout",
     "output_type": "stream",
     "text": [
      "Mean absolute error of my linear model is:  20.578139466788606 \n",
      "\n"
     ]
    }
   ],
   "source": [
    "# YOUR ANSWER HERE\n",
    "Mean_absolute_error = skm.mean_absolute_error(y_test_set,estimate)\n",
    "print(\"Mean absolute error of my linear model is: \", Mean_absolute_error, '\\n')"
   ]
  },
  {
   "cell_type": "markdown",
   "metadata": {},
   "source": [
    "#### __MSE (Mean Squared Error)__\n",
    "MSE is an alturnative to MAE and provides the average square of the error range between actual and predicted values. Implement and provide the MSE scores for you predictions above."
   ]
  },
  {
   "cell_type": "code",
   "execution_count": 12,
   "metadata": {},
   "outputs": [
    {
     "name": "stdout",
     "output_type": "stream",
     "text": [
      "Mean squared error of my linear model is:  627.4443464603687 \n",
      "\n"
     ]
    }
   ],
   "source": [
    "# YOUR ANSWER HERE\n",
    "Mean_squared_error = skm.mean_squared_error(y_test_set,estimate)\n",
    "print(\"Mean squared error of my linear model is: \", Mean_squared_error, '\\n')"
   ]
  },
  {
   "cell_type": "markdown",
   "metadata": {},
   "source": [
    "### 2.2: Classification Metrics\n",
    "\n",
    "Next stop! We want to look at defining metrics for our classification models now so that we can argue how good (or bad) our model is. To have usable data to perform metric analysis on perform the following tasks:\n",
    "- Convert your **Spending Score** into a binary output by the following rules: `score < 50 = 0, otherwise = 1.`\n",
    "- Split your dataset into testing and training data: your training dataset should be 72% of the original dataset. (HINT: This can be set in the train_test_split function)\n",
    "- Implement a Classification model using your binary **Spending Score** as the output. Use any features other than **Spending Score**. Fit the model on your training data.\n",
    "- Predict the outputs of the testing set and have this data ready to go for the metrics analysis."
   ]
  },
  {
   "cell_type": "code",
   "execution_count": 13,
   "metadata": {},
   "outputs": [],
   "source": [
    "# YOUR ANSWER HERE\n",
    "\n",
    "df_customers.loc[df_customers['Spending Score (1-100)'] < 50, 'Spending Score (1-100)'] = 0\n",
    "df_customers.loc[df_customers['Spending Score (1-100)'] >= 50, 'Spending Score (1-100)'] = 1"
   ]
  },
  {
   "cell_type": "markdown",
   "metadata": {},
   "source": [
    "#### __Mean Accuracy (The refresher)__\n",
    "Keeping with using the original model's scoring function, provide the output of the mean accuracy from your model."
   ]
  },
  {
   "cell_type": "code",
   "execution_count": 14,
   "metadata": {},
   "outputs": [],
   "source": [
    "# YOUR ANSWER HERE"
   ]
  },
  {
   "cell_type": "markdown",
   "metadata": {},
   "source": [
    "#### __Balanced Accuracy__\n",
    "As we are performing a binary target classification, we can use the Balanced Accuracy score to score an imbalenced dataset. Is this dataset imbalenced in its outputs? Provide reasoning why it might be, and the outputs from the Balenced Accuracy score from sklearn."
   ]
  },
  {
   "cell_type": "code",
   "execution_count": 15,
   "metadata": {},
   "outputs": [],
   "source": [
    "# YOUR ANSWER HERE"
   ]
  },
  {
   "cell_type": "markdown",
   "metadata": {},
   "source": [
    "#### __F1 (F-score | F-measure)__\n",
    "The F1 score is a weighted score of the precision and recall, where the precision is the ability for the classifier to label a sample positive when it is positive, and the recall is the ability of the classifier to find all positive samples. Implement the F1 score from sklearn\n",
    "\n",
    "**Extension:** Implement the precision and recall seperately and determine the contributing factors to how the F1 score is generated."
   ]
  },
  {
   "cell_type": "code",
   "execution_count": 16,
   "metadata": {},
   "outputs": [],
   "source": [
    "# YOUR ANSWER HERE"
   ]
  },
  {
   "cell_type": "markdown",
   "metadata": {},
   "source": [
    "***\n",
    "While these metrics are useful, there will be times when some are more valid than others. Having a sound knowledge of some of the performance metrics you can use to argue the performance of your models will always come in handy for analysis and justification. Make note of these going forward for assessable pieces !"
   ]
  }
 ],
 "metadata": {
  "kernelspec": {
   "display_name": "Python 3",
   "language": "python",
   "name": "python3"
  },
  "language_info": {
   "codemirror_mode": {
    "name": "ipython",
    "version": 3
   },
   "file_extension": ".py",
   "mimetype": "text/x-python",
   "name": "python",
   "nbconvert_exporter": "python",
   "pygments_lexer": "ipython3",
   "version": "3.6.8"
  }
 },
 "nbformat": 4,
 "nbformat_minor": 2
}

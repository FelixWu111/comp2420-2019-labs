{
 "cells": [
  {
   "cell_type": "code",
   "execution_count": 5,
   "metadata": {},
   "outputs": [
    {
     "name": "stdout",
     "output_type": "stream",
     "text": [
      "Hello World 3.141592653589793\n"
     ]
    }
   ],
   "source": [
    "import math\n",
    "print(\"Hello World\",math.pi)"
   ]
  },
  {
   "cell_type": "code",
   "execution_count": 8,
   "metadata": {},
   "outputs": [],
   "source": [
    "a = 3"
   ]
  },
  {
   "cell_type": "code",
   "execution_count": 9,
   "metadata": {},
   "outputs": [
    {
     "data": {
      "text/plain": [
       "22"
      ]
     },
     "execution_count": 9,
     "metadata": {},
     "output_type": "execute_result"
    }
   ],
   "source": [
    "15+7"
   ]
  },
  {
   "cell_type": "code",
   "execution_count": 10,
   "metadata": {},
   "outputs": [],
   "source": [
    "x=5\n",
    "y=\"Hello There\"\n",
    "z=10.5"
   ]
  },
  {
   "cell_type": "code",
   "execution_count": 11,
   "metadata": {},
   "outputs": [
    {
     "name": "stdout",
     "output_type": "stream",
     "text": [
      "COMP2420/6420 is a fun course!\n",
      "15.5\n",
      "Hello There!\n"
     ]
    }
   ],
   "source": [
    "print(\"COMP2420/6420 is a fun course!\")\n",
    "print(x+z)\n",
    "print(y+\"!\")"
   ]
  },
  {
   "cell_type": "code",
   "execution_count": 12,
   "metadata": {},
   "outputs": [
    {
     "data": {
      "text/plain": [
       "4.0"
      ]
     },
     "execution_count": 12,
     "metadata": {},
     "output_type": "execute_result"
    }
   ],
   "source": [
    "import math\n",
    "math.sqrt(16)"
   ]
  },
  {
   "cell_type": "code",
   "execution_count": 13,
   "metadata": {},
   "outputs": [
    {
     "data": {
      "text/plain": [
       "720"
      ]
     },
     "execution_count": 13,
     "metadata": {},
     "output_type": "execute_result"
    }
   ],
   "source": [
    "from math import factorial,sqrt\n",
    "factorial(sqrt(36))"
   ]
  },
  {
   "cell_type": "code",
   "execution_count": 14,
   "metadata": {},
   "outputs": [
    {
     "data": {
      "text/plain": [
       "64.0"
      ]
     },
     "execution_count": 14,
     "metadata": {},
     "output_type": "execute_result"
    }
   ],
   "source": [
    "from math import *\n",
    "pow(4,3)"
   ]
  },
  {
   "cell_type": "code",
   "execution_count": 18,
   "metadata": {},
   "outputs": [
    {
     "data": {
      "text/plain": [
       "'security'"
      ]
     },
     "execution_count": 18,
     "metadata": {},
     "output_type": "execute_result"
    }
   ],
   "source": [
    "my_list = [\"Waving\", \"hi\", \"to\", \"security\", \"cameras\"]\n",
    "my_list.append(\"!\")         \n",
    "my_list[3]"
   ]
  },
  {
   "cell_type": "code",
   "execution_count": 19,
   "metadata": {},
   "outputs": [
    {
     "data": {
      "text/plain": [
       "['Waving', 'hi', 'to', 'the', 'security', 'cameras', '!']"
      ]
     },
     "execution_count": 19,
     "metadata": {},
     "output_type": "execute_result"
    }
   ],
   "source": [
    "my_list.insert(3, \"the\")\n",
    "my_list"
   ]
  },
  {
   "cell_type": "code",
   "execution_count": 20,
   "metadata": {},
   "outputs": [
    {
     "data": {
      "text/plain": [
       "['Waving', 'hi', 'to', 'the', 'cameras', '!']"
      ]
     },
     "execution_count": 20,
     "metadata": {},
     "output_type": "execute_result"
    }
   ],
   "source": [
    "my_list.remove(\"security\")\n",
    "my_list"
   ]
  },
  {
   "cell_type": "code",
   "execution_count": 28,
   "metadata": {},
   "outputs": [
    {
     "name": "stdout",
     "output_type": "stream",
     "text": [
      "If you love something set it free unless it's a tiger\n"
     ]
    }
   ],
   "source": [
    "your_list = [\"If\", \"you\", \"love\", \"something\", \"set\", \"it\", \"free\"]\n",
    "your_list.extend([\"unless\", \"it's\", \"a\", \"tiger\"])\n",
    "print(\" \".join(x for x in your_list))   "
   ]
  },
  {
   "cell_type": "code",
   "execution_count": 29,
   "metadata": {},
   "outputs": [
    {
     "name": "stdout",
     "output_type": "stream",
     "text": [
      "Second element:  two\n",
      "Index of 3.0 is:  2\n"
     ]
    }
   ],
   "source": [
    " my_tuple = (1, \"two\", 3.0, \"four\")\n",
    "\n",
    "print(\"Second element: \", my_tuple[1])\n",
    "\n",
    "print(\"Index of 3.0 is: \", my_tuple.index(3.0))"
   ]
  },
  {
   "cell_type": "code",
   "execution_count": 30,
   "metadata": {},
   "outputs": [
    {
     "data": {
      "text/plain": [
       "'800MB'"
      ]
     },
     "execution_count": 30,
     "metadata": {},
     "output_type": "execute_result"
    }
   ],
   "source": [
    "my_dictionary = {\n",
    "    'Syllabus': \"80GB\",\n",
    "    'Study': \"800MB\",\n",
    "    'Retention': \"80KB\",\n",
    "    'Regurgitation': \"80B\",\n",
    "    'Result': \"0b1000\"  \n",
    "}\n",
    "\n",
    "my_dictionary['Study']"
   ]
  },
  {
   "cell_type": "code",
   "execution_count": 31,
   "metadata": {},
   "outputs": [
    {
     "name": "stdout",
     "output_type": "stream",
     "text": [
      "Keys:  dict_keys(['Syllabus', 'Study', 'Retention', 'Regurgitation', 'Result'])\n",
      "Values:  dict_values(['80GB', '800MB', '80KB', '80B', '0b1000'])\n"
     ]
    }
   ],
   "source": [
    "print(\"Keys: \", my_dictionary.keys())\n",
    "\n",
    "print(\"Values: \", my_dictionary.values())"
   ]
  },
  {
   "cell_type": "code",
   "execution_count": 32,
   "metadata": {},
   "outputs": [
    {
     "data": {
      "text/plain": [
       "True"
      ]
     },
     "execution_count": 32,
     "metadata": {},
     "output_type": "execute_result"
    }
   ],
   "source": [
    "'Syllabus' in my_dictionary.keys()"
   ]
  },
  {
   "cell_type": "code",
   "execution_count": 33,
   "metadata": {},
   "outputs": [
    {
     "data": {
      "text/plain": [
       "{'Claire', 'Haley', 'Luke', 'Phil'}"
      ]
     },
     "execution_count": 33,
     "metadata": {},
     "output_type": "execute_result"
    }
   ],
   "source": [
    "family_set = {'Phil', 'Claire', 'Luke', 'Haley', 'Alex'}\n",
    "\n",
    "family_set.add('Claire')\n",
    "\n",
    "family_set.remove('Alex')\n",
    "\n",
    "family_set"
   ]
  },
  {
   "cell_type": "code",
   "execution_count": 34,
   "metadata": {},
   "outputs": [
    {
     "name": "stdout",
     "output_type": "stream",
     "text": [
      "Intersection:  {'Claire'}\n",
      "Union:  {'Luke', 'Alex', 'Mitchell', 'Haley', 'Claire', 'DeeDee', 'Phil', 'Jay'}\n",
      "Difference:  {'Mitchell', 'DeeDee', 'Jay'}\n"
     ]
    }
   ],
   "source": [
    "family_1 = {'Phil', 'Claire', 'Luke', 'Haley', 'Alex'}\n",
    "family_2 = {'Jay', 'Claire', 'Mitchell', 'DeeDee'}\n",
    "\n",
    "# Intersection\n",
    "print(\"Intersection: \", family_1.intersection(family_2))\n",
    "\n",
    "# Union\n",
    "print(\"Union: \", family_1.union(family_2))\n",
    "\n",
    "# Difference\n",
    "print(\"Difference: \", family_2.difference(family_1))"
   ]
  },
  {
   "cell_type": "code",
   "execution_count": 35,
   "metadata": {},
   "outputs": [],
   "source": [
    " p = \"P\"\n",
    "np = \"NP\""
   ]
  },
  {
   "cell_type": "code",
   "execution_count": 36,
   "metadata": {},
   "outputs": [
    {
     "name": "stdout",
     "output_type": "stream",
     "text": [
      "Try running again!\n"
     ]
    }
   ],
   "source": [
    "if p != np:\n",
    "    p = \"N\" + p\n",
    "    print(\"Try running again!\")\n",
    "else:\n",
    "    print(\"Yay! I solved it!\")"
   ]
  },
  {
   "cell_type": "code",
   "execution_count": 37,
   "metadata": {},
   "outputs": [
    {
     "name": "stdout",
     "output_type": "stream",
     "text": [
      "Yay! I solved it!\n"
     ]
    }
   ],
   "source": [
    "if p != np:\n",
    "    p = \"N\" + p\n",
    "    print(\"Try running again!\")\n",
    "else:\n",
    "    print(\"Yay! I solved it!\")"
   ]
  },
  {
   "cell_type": "code",
   "execution_count": 40,
   "metadata": {},
   "outputs": [
    {
     "name": "stdout",
     "output_type": "stream",
     "text": [
      "Yeah, we got the\n",
      "Fire\n",
      "Fire\n",
      "Fire\n",
      "And we gonna let it\n",
      "Burn\n",
      "Burn\n",
      "Burn\n"
     ]
    }
   ],
   "source": [
    "print(\"Yeah, we got the\")\n",
    "for i in range(0, 3): \n",
    "    print(\"Fire\")\n",
    "print(\"And we gonna let it\")\n",
    "for j in range(0,3):\n",
    "    print(\"Burn\")"
   ]
  },
  {
   "cell_type": "code",
   "execution_count": 43,
   "metadata": {},
   "outputs": [
    {
     "name": "stdout",
     "output_type": "stream",
     "text": [
      "M to-the I to-the S to-the T\n"
     ]
    }
   ],
   "source": [
    "my_str = \"MIST\"\n",
    "result = \"\"\n",
    "for x in my_str:\n",
    "    if x != 'T':\n",
    "        result += x + \" to-the \"\n",
    "    else:\n",
    "        result += x\n",
    "print(result)"
   ]
  },
  {
   "cell_type": "code",
   "execution_count": 44,
   "metadata": {},
   "outputs": [
    {
     "name": "stdout",
     "output_type": "stream",
     "text": [
      "Area of a circle with radius 5:  78.53981633974483\n"
     ]
    }
   ],
   "source": [
    "def calculate_area(radius):\n",
    "    from math import pi\n",
    "    area = pi * radius * radius\n",
    "    return area\n",
    "\n",
    "# Calling the function \n",
    "print(\"Area of a circle with radius 5: \", calculate_area(5))"
   ]
  },
  {
   "cell_type": "code",
   "execution_count": 45,
   "metadata": {},
   "outputs": [
    {
     "name": "stdout",
     "output_type": "stream",
     "text": [
      "My birthday is: 12/10/1970\n",
      "My birthday is:  12 / 10 / 1970\n",
      "My birthday is: 12/10/1970 \n",
      "My birthday is: 12/10/1970\n"
     ]
    }
   ],
   "source": [
    "day = 12\n",
    "month = 10\n",
    "year = 1970\n",
    "print(\"My birthday is: \" + str(day) + \"/\" + str(month) + \"/\" + str(year))    # We have to explicitly convert the 'int' variables to string in this case\n",
    "print(\"My birthday is: \", day, \"/\", month, \"/\", year)                        # Concatenating with a comma adds an automatic space before the next string/variable \n",
    "print(\"My birthday is: {}/{}/{} \".format(day, month, year)) # The order of the variables can be specified within the curly braces (starting from 0) for the following variable arguments\n",
    "print(\"My birthday is: %d/%d/%d\" % (day, month, year))"
   ]
  },
  {
   "cell_type": "code",
   "execution_count": 46,
   "metadata": {},
   "outputs": [
    {
     "name": "stdout",
     "output_type": "stream",
     "text": [
      "<class 'list'>\n",
      "<class 'str'>\n",
      "<class 'int'>\n",
      "<class 'str'>\n",
      "<class 'float'>\n",
      "<class 'dict'>\n",
      "<class 'int'>\n"
     ]
    }
   ],
   "source": [
    "my_list = ['a', 7, \"cat\", 249.50, {'a': 50, 'b': 75, 'c': 125, 'd': 150}]\n",
    "\n",
    "print(type(my_list))\n",
    "\n",
    "for item in my_list:\n",
    "    print(type(item))\n",
    "    \n",
    "print(type(my_list[4]['a']))"
   ]
  },
  {
   "cell_type": "code",
   "execution_count": 47,
   "metadata": {},
   "outputs": [
    {
     "name": "stdout",
     "output_type": "stream",
     "text": [
      "7 parsed into a string type produces - 7 <class 'str'>\n",
      "249.5 parsed into an integer type produces - 249 <class 'int'>\n",
      "7 parsed into an float type produces - 7.0 <class 'float'>\n",
      "cat parsed into a list type produces - ['c', 'a', 't'] <class 'list'>\n"
     ]
    }
   ],
   "source": [
    "parse_str = str(my_list[1])\n",
    "print(my_list[1], \"parsed into a string type produces -\", parse_str, type(parse_str))\n",
    "parse_int = int(my_list[3])\n",
    "print(my_list[3], \"parsed into an integer type produces -\", parse_int, type(parse_int))\n",
    "parse_float = float(my_list[1])\n",
    "print(my_list[1], \"parsed into an float type produces -\", parse_float, type(parse_float))\n",
    "cat_list = list(my_list[2])\n",
    "print(my_list[2], \"parsed into a list type produces -\", cat_list, type(cat_list))"
   ]
  },
  {
   "cell_type": "code",
   "execution_count": null,
   "metadata": {},
   "outputs": [],
   "source": [
    " # The number of elements in a list\n",
    "print(\"The no. of elements in my_list are:\", len(my_list))\n",
    "\n",
    "# The number of elements in a dictionary\n",
    "print(\"The no. of elements in my_dictionary are:\", len(my_dictionary))\n",
    "\n",
    "# It can also be used to compute the length of a string\n",
    "print(\"The length of the word 'Mississippi' is: \", len('Mississippi'))"
   ]
  },
  {
   "cell_type": "code",
   "execution_count": 1,
   "metadata": {},
   "outputs": [],
   "source": [
    "def josephus_survivor(n, k):\n",
    "    # TODO: Initialize a list of people (1, 2, ... , n). Call it 'people_list'\n",
    "    \n",
    "    people_list = []\n",
    "    for x in range (1,n+1):\n",
    "        people_list.append(x)\n",
    "    \n",
    "    # List that will store the result\n",
    "    result = []\n",
    "    \n",
    "    # Other variables\n",
    "    i = 0\n",
    "    \n",
    "    # While the number of people in list > 0, execute the inner code block \n",
    "    while len(people_list) > 0:\n",
    "        i += k-1\n",
    "        while i >= len(people_list):\n",
    "            i = i - len(people_list)\n",
    "        result.append(people_list.pop(i))\n",
    "        \n",
    "        #TODO: Pop the element i from the people_list and add it to result\n",
    "        \n",
    "    \n",
    "        \n",
    "    print(\"Order of deaths: \", result[:-1])\n",
    "    return result.pop()\n"
   ]
  },
  {
   "cell_type": "code",
   "execution_count": 2,
   "metadata": {},
   "outputs": [
    {
     "name": "stdout",
     "output_type": "stream",
     "text": [
      "Enter no. of defendants :5\n",
      "No. of steps: 2\n",
      "Order of deaths:  [2, 4, 1, 5]\n",
      "The last man standing was:  3\n"
     ]
    }
   ],
   "source": [
    "n = int(input(\"Enter no. of defendants :\"))\n",
    "k = int(input(\"No. of steps: \"))\n",
    "print(\"The last man standing was: \", josephus_survivor(n, k))"
   ]
  },
  {
   "cell_type": "code",
   "execution_count": 32,
   "metadata": {},
   "outputs": [
    {
     "name": "stdout",
     "output_type": "stream",
     "text": [
      "enter the message: hello\n",
      "mjqqt\n"
     ]
    }
   ],
   "source": [
    "# Step 1: Define a string containing all the alphabets\n",
    "\n",
    "alphabets = \"abcdefghijklmnopqrstuvwxyz\"\n",
    "\n",
    "# Step 2: Define a key and a variable to store new encrypted message\n",
    "key = 5\n",
    "new_message = \"\"\n",
    "\n",
    "# TODO: Step 3: Input the message from the user and store it in the variable 'message'\n",
    "message = input(\"enter the message: \")\n",
    "\n",
    "# TODO: Step 4: Loop through every character in the input message\n",
    "        # (a) Find position of the character in 'alphabets'\n",
    "        # (b) Set new position by adding key to the position value\n",
    "        # (c) Add the new encrypted character to the 'new_message'\n",
    "for x in  message:\n",
    "    for y in alphabets:\n",
    "            if x == y :\n",
    "                n = alphabets.index(x)+key\n",
    "                if n>25:\n",
    "                    n=n-26\n",
    "                new_message = new_message+alphabets[n]\n",
    "print(new_message)           \n",
    "                \n",
    "\n",
    "# TODO: Step 5: Print the encrypted message stored in 'new_message'"
   ]
  },
  {
   "cell_type": "code",
   "execution_count": 33,
   "metadata": {},
   "outputs": [],
   "source": [
    "def search_list(target, list_to_search):\n",
    "\n",
    "    \n",
    "    \n",
    "    return False"
   ]
  },
  {
   "cell_type": "code",
   "execution_count": null,
   "metadata": {},
   "outputs": [],
   "source": [
    "test_list_1 = [1, 3, 1, [2, 4], 6, 7]\n",
    "test_list_2 = [[], 1, [-1, 3, [5], [[[[[7]]]], [6]], 8, 9]]\n",
    "\n",
    "if search_list(7, test_list_2) and search_list(4, test_list_1) and search_list(6, test_list_2):\n",
    "    print(\"Congratulations! Your code works! :)\")\n",
    "else:\n",
    "    print(\"Not quite! Please try again!\")"
   ]
  }
 ],
 "metadata": {
  "kernelspec": {
   "display_name": "Python 3",
   "language": "python",
   "name": "python3"
  },
  "language_info": {
   "codemirror_mode": {
    "name": "ipython",
    "version": 3
   },
   "file_extension": ".py",
   "mimetype": "text/x-python",
   "name": "python",
   "nbconvert_exporter": "python",
   "pygments_lexer": "ipython3",
   "version": "3.6.8"
  }
 },
 "nbformat": 4,
 "nbformat_minor": 2
}

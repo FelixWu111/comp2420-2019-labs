{
 "cells": [
  {
   "cell_type": "markdown",
   "metadata": {},
   "source": [
    "<h1 align='center'> COMP2420/COMP6420 - Introduction to Data Management, Analysis and Security</h1>\n",
    "\n",
    "<h2 align='center'> Homework Assessment 01</h2>\n",
    "\n",
    "*****\n",
    "\n",
    "Welcome to your ~~TAPE~~ 1<sup>st</sup> Homework Assignment! These are a set of **4 questions** that will test what you've learned during the lectures and the lab exercises. In the **next lab (Lab 02)**, you'll be asked to complete <span style='color:red'><b>ANY ONE</b></span> of these exercises by your tutor in **Exam Mode**. Upon completion, you'll be marked by your tutor, based on the correctness and completeness of your solution."
   ]
  },
  {
   "cell_type": "markdown",
   "metadata": {},
   "source": [
    "### Exercise 1 - Venom-enal Food\n",
    "\n",
    "Oh no! Your top-secret sources have revealed that someone is trying to poison the tutors in an attempt to make sure the mid-semester exam gets cancelled. Write the following functions to protect the safety of the tutors: \n",
    "\n",
    "1. Complete the function **is_dangerous()** that takes in a set of **poisonous food**, and a set of **party food**, returning True if there are any poisonous foods in the party food set, and False otherwise.\n",
    "\n",
    "2. Now that the crisis has been averted, Ramesh has been given a dictionary where the **keys are food names**, and the **values are a set of tutors' names** who have requested that food. Complete the function **most_popular_food()** so that it returns the most popular food on the menu."
   ]
  },
  {
   "cell_type": "code",
<<<<<<< HEAD
   "execution_count": 82,
   "metadata": {},
   "outputs": [
    {
     "data": {
      "text/plain": [
       "{'a', 's'}"
      ]
     },
     "execution_count": 82,
     "metadata": {},
     "output_type": "execute_result"
    }
   ],
   "source": [
    "# TODO: COMPLETE THE BELOW FUNCTION\n",
    "def is_dangerous(partyFood, poisonousFood):\n",
    "    truth = False\n",
    "    for x in partyFood:\n",
    "        for y in poisonousFood:\n",
    "            if x==y:\n",
    "                truth = True\n",
    "\n",
    "    \n",
    "    return truth"
=======
   "execution_count": null,
   "metadata": {},
   "outputs": [],
   "source": [
    "# TODO: COMPLETE THE BELOW FUNCTION\n",
    "def is_dangerous(partyFood, poisonousFood):\n",
    "\n",
    "    \n",
    "    return None"
>>>>>>> upstream/master
   ]
  },
  {
   "cell_type": "code",
<<<<<<< HEAD
   "execution_count": 4,
=======
   "execution_count": null,
>>>>>>> upstream/master
   "metadata": {
    "deletable": false,
    "editable": false
   },
<<<<<<< HEAD
   "outputs": [
    {
     "name": "stdout",
     "output_type": "stream",
     "text": [
      "False\n",
      "True\n"
     ]
    }
   ],
=======
   "outputs": [],
>>>>>>> upstream/master
   "source": [
    "# RUN THIS BLOCK TO TEST YOUR FUNCTION\n",
    "partyFood = {\"Bubble Tea\", \"Pizza\", \"Cupcakes\", \"Croquettes\", \"Hot Wings\", \"Gelato\"}\n",
    "shadyPartyFood = {\"Pizza\", \"Hot Wings\", \"Gelato\", \"Expired Cheese\", \"Spring Rolls\"}\n",
    "poisonousFood = {\"Expired Cheese\", \"Contaminated Meatpie\", \"Poisoned Drinks\"}\n",
    "print(is_dangerous(partyFood, poisonousFood))\n",
    "print(is_dangerous(shadyPartyFood, poisonousFood))"
   ]
  },
  {
   "cell_type": "code",
<<<<<<< HEAD
   "execution_count": 22,
=======
   "execution_count": null,
>>>>>>> upstream/master
   "metadata": {},
   "outputs": [],
   "source": [
    "# TODO: COMPLETE THE BELOW FUNCTION\n",
    "def most_popular_food(dictFoodRequests):\n",
<<<<<<< HEAD
    "    name = \"\"\n",
    "    num = 0\n",
    "    num2 = 0\n",
    "    for a, b in dictFoodRequests.items():\n",
    "        num2 = len(b)\n",
    "        if num < num2:\n",
    "            num = num2\n",
    "            name = a   \n",
    "    \n",
    "    return name"
=======
    "\n",
    "    \n",
    "    \n",
    "    return None"
>>>>>>> upstream/master
   ]
  },
  {
   "cell_type": "code",
<<<<<<< HEAD
   "execution_count": 23,
=======
   "execution_count": null,
>>>>>>> upstream/master
   "metadata": {
    "deletable": false,
    "editable": false
   },
<<<<<<< HEAD
   "outputs": [
    {
     "name": "stdout",
     "output_type": "stream",
     "text": [
      "The most popular item on the menu is Gelato\n"
     ]
    }
   ],
=======
   "outputs": [],
>>>>>>> upstream/master
   "source": [
    "# RUN THIS BLOCK TO TEST YOUR FUNCTION\n",
    "dict_food = {'Pizza': {'Cody', 'Utkarsh', 'Alex'}, \n",
    "        'Bubble Tea':{'Cecilia', 'Utkarsh', 'Harry', 'James'},\n",
    "        'Spring Rolls':{'Alexei' 'Hanif'},\n",
    "        'Hot Wings':{'Harry', 'Afzal', 'Alexei'},\n",
    "        'Gelato':{'Hanif', 'Alex', 'James', 'Paige', 'Cecilia', 'Xu'},\n",
    "        'Croquettes':{'Paige', 'Xu', 'Cody'},\n",
    "        'Cupcakes':{'Afzal'}\n",
    "        }\n",
    "print(\"The most popular item on the menu is\", most_popular_food(dict_food))"
   ]
  },
  {
   "cell_type": "markdown",
   "metadata": {},
   "source": [
    "### Exercise 2 - Index Inversion\n",
    "Most textbooks often have an **'Index'** at the end, which lists the important keywords followed by the pages on which these words appear. Pythonically, it can be represented as a dictionary, where the **keys** are the keywords and the **values** are a list of page numbers where these words appear.\n",
    "\n",
    "```python\n",
    "dict_index = {'boolean': [3, 16],\n",
    "              'function': [9, 16],\n",
    "              'dictionary': [16],\n",
    "              'counter': [5, 9, 10]}\n",
    "```\n",
    "However, wouldn't it be great if the Index could be inverted to get an idea of what keywords every page contained. Your job here is to invert this **'Index'**, so that it displays the page numbers as keys, followed by the keywords present on that page as the value. Complete the function **invert_index()** so that it returns a dictionary like - \n",
    "```python\n",
    "result = {3: ['boolean'],\n",
    "          5: ['counter'],\n",
    "          9: ['counter', 'function'],\n",
    "          10: ['counter'],\n",
    "          16: ['dictionary', 'boolean', 'function']}\n",
    "```"
   ]
  },
  {
   "cell_type": "code",
<<<<<<< HEAD
   "execution_count": 63,
=======
   "execution_count": null,
>>>>>>> upstream/master
   "metadata": {},
   "outputs": [],
   "source": [
    "# TODO: COMPLETE THE BELOW FUNCTION\n",
    "def invert_index(index):\n",
<<<<<<< HEAD
    "    result = {}\n",
    "    for a, b in  index.items():\n",
    "        for x in b:\n",
    "            if x in result.keys():\n",
    "                result[x] = result[x]+[a]\n",
    "            else:\n",
    "                result[x] = [a]\n",
=======
    "    result = {}    \n",
>>>>>>> upstream/master
    "    \n",
    "    \n",
    "    return result"
   ]
  },
  {
   "cell_type": "code",
<<<<<<< HEAD
   "execution_count": 64,
=======
   "execution_count": null,
>>>>>>> upstream/master
   "metadata": {
    "deletable": false,
    "editable": false
   },
<<<<<<< HEAD
   "outputs": [
    {
     "name": "stdout",
     "output_type": "stream",
     "text": [
      "{10: ['Lists'], 12: ['Lists', 'Matplotlib'], 13: ['Lists', 'Indexing'], 8: ['Indexing', 'Pandas', 'Dictionary'], 2: ['Pandas'], 15: ['Pandas', 'Matplotlib'], 7: ['Dictionary']}\n"
     ]
    }
   ],
=======
   "outputs": [],
>>>>>>> upstream/master
   "source": [
    "# RUN THIS BLOCK TO TEST YOUR CODE\n",
    "dict_python = {'Lists': [10, 12, 13],\n",
    "               'Indexing': [8, 13],\n",
    "               'Pandas': [2, 8, 15],\n",
    "               'Dictionary': [7, 8],\n",
    "               'Matplotlib': [12, 15]}\n",
    "print(invert_index(dict_python))"
   ]
  },
  {
   "cell_type": "markdown",
   "metadata": {},
   "source": [
    "### Exercise 3 - Sonnet Sifter\n",
    "\n",
    "When you start learning a new thing, you just wanna use it everywhere you can. Same is the case with **Data Science**. You were listening to your favourite song, and got curious as to how many unique words were present in its lyrics. So, you decide to make a Python function **word_counter()**, that takes in the song lyrics as a **set** of lines, and returns the number of unique words in that lyric.\n",
    "\n",
    "**HINT**: You also have to make sure your code removes punctuation and ignore the case, so that you can consider words like -\n",
    "\n",
    "    in, == in\n",
    "    GREEN == Green == green"
   ]
  },
  {
   "cell_type": "code",
<<<<<<< HEAD
   "execution_count": 1,
=======
   "execution_count": null,
>>>>>>> upstream/master
   "metadata": {},
   "outputs": [],
   "source": [
    "# TODO: COMPLETE THE BELOW FUNCTION\n",
    "def word_counter(lyric):\n",
<<<<<<< HEAD
    "    word = []\n",
    "    words =\"\"\n",
    "    for str1 in  lyric:\n",
    "        for x in str1:\n",
    "            x = x.upper()\n",
    "            if x == ' ' or x == ',' or x == '.':\n",
    "                word = word + [words]\n",
    "                words = \"\"\n",
    "            else:\n",
    "                words = words+x\n",
    "            \n",
    "    unique_words = set(word)\n",
=======
    "    unique_words = set()\n",
    "    \n",
>>>>>>> upstream/master
    "    \n",
    "    \n",
    "    return len(unique_words)"
   ]
  },
  {
   "cell_type": "code",
<<<<<<< HEAD
   "execution_count": 2,
=======
   "execution_count": null,
>>>>>>> upstream/master
   "metadata": {
    "deletable": false,
    "editable": false
   },
<<<<<<< HEAD
   "outputs": [
    {
     "name": "stdout",
     "output_type": "stream",
     "text": [
      "The number of unique words are 48\n"
     ]
    }
   ],
=======
   "outputs": [],
>>>>>>> upstream/master
   "source": [
    "# RUN THIS BLOCK TO TEST YOUR CODE\n",
    "lyric =(\"I want a brand new house on an episode of Cribs,\", \n",
    "        \"And a bathroom I can play baseball in,\",\n",
    "        \"And a king size tub,\",\n",
    "        \"Big enough for ten plus me,\",\n",
    "        \"I need a a credit card that's got no limit,\",\n",
    "        \"And a big black jet with a bedroom in it,\",\n",
    "        \"Gonna join the mile high club,\",\n",
    "        \"At thirty-seven thousand feet.\")\n",
    "print(\"The number of unique words are\", word_counter(lyric))"
   ]
  },
  {
   "cell_type": "markdown",
   "metadata": {},
   "source": [
    "### Exercise 4 - Top Of The Class\n",
    "\n",
    "After grading the mid-term examination (yes, all your attempts at poisoning the tutors were foiled), the tutors compiled the students' grades in a comma-seperated value (CSV) format. But, Ramesh wants to convert this to a dictionary for ease-of-use. Help him convert an input like -\n",
    "\n",
    "```python\n",
    "(\"u6565656, 78\",                                    {'u6565656': 78,\n",
    " \"u1234123, 91\",                                     'u1234123': 91,\n",
    " \"u9090909, 77\",                    to               'u9090909': 77, \n",
    " \"u8181818, 85\")                                     'u8181818': 85}\n",
    "```\n",
    "and then, return the UIDs of the top 3 students in the class as a list.\n",
    "\n",
    "``` python\n",
    "result = ['u1234123', 'u8181818', 'u6565656']\n",
    "```\n",
    "Complete the function **compute_top3()** to return this **result** list."
   ]
  },
  {
   "cell_type": "code",
<<<<<<< HEAD
   "execution_count": 117,
   "metadata": {},
   "outputs": [],
   "source": [
    "\"acv\"# TODO: COMPLETE THE BELOW FUNCTION\n",
    "def compute_top3(grades):\n",
    "    result = []\n",
    "    dic = {}\n",
    "    for x in grades:\n",
    "        a = x[:9]\n",
    "        b = x[10:]\n",
    "        dic[int(b)] = a\n",
    "    for x in [1,2,3]:\n",
    "        a = max(dic.keys())\n",
    "        result = result + [dic[a]]\n",
    "        del dic[a]\n",
=======
   "execution_count": null,
   "metadata": {},
   "outputs": [],
   "source": [
    "# TODO: COMPLETE THE BELOW FUNCTION\n",
    "def compute_top3(grades):\n",
    "    result = []\n",
    "\n",
>>>>>>> upstream/master
    "    \n",
    "    return result"
   ]
  },
  {
   "cell_type": "code",
<<<<<<< HEAD
   "execution_count": 118,
=======
   "execution_count": null,
>>>>>>> upstream/master
   "metadata": {
    "deletable": false,
    "editable": false
   },
<<<<<<< HEAD
   "outputs": [
    {
     "name": "stdout",
     "output_type": "stream",
     "text": [
      "The top 3 students are: ['u1234123,', 'u8181818,', 'u6565656,']\n"
     ]
    }
   ],
=======
   "outputs": [],
>>>>>>> upstream/master
   "source": [
    "grades = (\"u6565656, 78\",\n",
    "          \"u1234123, 91\",\n",
    "          \"u9090909, 77\", \n",
    "          \"u8181818, 85\")\n",
    "print(\"The top 3 students are:\", compute_top3(grades))"
   ]
<<<<<<< HEAD
  },
  {
   "cell_type": "code",
   "execution_count": null,
   "metadata": {},
   "outputs": [],
   "source": []
=======
>>>>>>> upstream/master
  }
 ],
 "metadata": {
  "kernelspec": {
   "display_name": "Python 3",
   "language": "python",
   "name": "python3"
  },
  "language_info": {
   "codemirror_mode": {
    "name": "ipython",
    "version": 3
   },
   "file_extension": ".py",
   "mimetype": "text/x-python",
   "name": "python",
   "nbconvert_exporter": "python",
   "pygments_lexer": "ipython3",
<<<<<<< HEAD
   "version": "3.6.8"
=======
   "version": "3.7.0"
>>>>>>> upstream/master
  }
 },
 "nbformat": 4,
 "nbformat_minor": 2
}

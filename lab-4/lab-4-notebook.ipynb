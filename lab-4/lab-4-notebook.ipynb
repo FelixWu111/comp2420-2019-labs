{
 "cells": [
  {
   "cell_type": "markdown",
   "metadata": {},
   "source": [
    "<h1 align='center'> COMP2420/COMP6420 - Introduction to Data Management, Analysis and Security</h1>\n",
    "\n",
    "<h2 align='center'> Lab 04 - Statistical Methods and Hypothesis Testing</h2>\n",
    "\n",
    "*****\n",
    "\n",
    "In this lab, we'll go through some Statistical and Research methods taught in the lectures. Statistics is a major component of data analysis. It allows you to investigate data and make inferences based on your observations. A foundation in statistics also allows you to be a consumer of analyses that others perform, and allows you to relate to the conclusions others have drawn from their investigations.\n",
    "\n",
    "*****"
   ]
  },
  {
   "cell_type": "markdown",
   "metadata": {},
   "source": [
    "<h3 align='center'> Exercise 1 - Determining Optimal Chopstick Length</h3>\n",
    "\n",
    "_This exercise was extracted from this [1991 study](http://www.ncbi.nlm.nih.gov/pubmed/15676839) (Old? IKR! Not as old as Lab 1's Josephus Problem though!!)_.\n",
    "\n",
    "Chopsticks are one of the most simple and popular hand tools ever invented by humans, but have not previously been investigated by ergonomists. A research was conducted in 1991, to evaluate the effects of the length of the chopsticks on the food-serving performance of adults and children. Thirty-one male junior college students and 21 primary school pupils served as subjects for the experiment to test chopsticks lengths of 180, 210, 240, 270, 300, and 330 mm. The results showed that the food-pinching performance was significantly affected by the length of the chopsticks, and that chopsticks of about 240 and 180 mm long were optimal for adults and pupils, respectively. Based on these findings, the researchers suggested that families with children should provide both 240 and 180 mm long chopsticks. In addition, restaurants could provide 210 mm long chopsticks, considering the trade-offs between ergonomics and cost.\n",
    "\n",
    "For this exercise, we are only going to work with the chopstick dataset for adults, which has the data relating to the chopstick efficiency of 31 adult college students. So, let's see if we can replicate the results of the study and reach similar conclusions with our own analysis!"
   ]
  },
  {
   "cell_type": "code",
   "execution_count": 1,
   "metadata": {},
   "outputs": [],
   "source": [
    "import pandas as pd\n",
    "import matplotlib.pyplot as plt\n",
    "import scipy.stats as st"
   ]
  },
  {
   "cell_type": "code",
   "execution_count": 17,
   "metadata": {},
   "outputs": [
    {
     "data": {
      "text/html": [
       "<div>\n",
       "<style scoped>\n",
       "    .dataframe tbody tr th:only-of-type {\n",
       "        vertical-align: middle;\n",
       "    }\n",
       "\n",
       "    .dataframe tbody tr th {\n",
       "        vertical-align: top;\n",
       "    }\n",
       "\n",
       "    .dataframe thead th {\n",
       "        text-align: right;\n",
       "    }\n",
       "</style>\n",
       "<table border=\"1\" class=\"dataframe\">\n",
       "  <thead>\n",
       "    <tr style=\"text-align: right;\">\n",
       "      <th></th>\n",
       "      <th>Food.Pinching.Efficiency</th>\n",
       "      <th>Individual</th>\n",
       "      <th>Chopstick.Length</th>\n",
       "    </tr>\n",
       "  </thead>\n",
       "  <tbody>\n",
       "    <tr>\n",
       "      <th>0</th>\n",
       "      <td>19.55</td>\n",
       "      <td>1</td>\n",
       "      <td>180</td>\n",
       "    </tr>\n",
       "    <tr>\n",
       "      <th>1</th>\n",
       "      <td>27.24</td>\n",
       "      <td>2</td>\n",
       "      <td>180</td>\n",
       "    </tr>\n",
       "    <tr>\n",
       "      <th>2</th>\n",
       "      <td>28.76</td>\n",
       "      <td>3</td>\n",
       "      <td>180</td>\n",
       "    </tr>\n",
       "    <tr>\n",
       "      <th>3</th>\n",
       "      <td>31.19</td>\n",
       "      <td>4</td>\n",
       "      <td>180</td>\n",
       "    </tr>\n",
       "    <tr>\n",
       "      <th>4</th>\n",
       "      <td>21.91</td>\n",
       "      <td>5</td>\n",
       "      <td>180</td>\n",
       "    </tr>\n",
       "  </tbody>\n",
       "</table>\n",
       "</div>"
      ],
      "text/plain": [
       "   Food.Pinching.Efficiency  Individual  Chopstick.Length\n",
       "0                     19.55           1               180\n",
       "1                     27.24           2               180\n",
       "2                     28.76           3               180\n",
       "3                     31.19           4               180\n",
       "4                     21.91           5               180"
      ]
     },
     "execution_count": 17,
     "metadata": {},
     "output_type": "execute_result"
    }
   ],
   "source": [
    "# Task 1 - Use this cell to import the given CSV into a dataframe and explore the data. \n",
    "ce = pd.read_csv('chopstick-effectiveness.csv')\n",
    "sr = pd.read_csv('stroop-results.csv')"
   ]
  },
  {
   "cell_type": "markdown",
   "metadata": {},
   "source": [
    "So, here we can see two types of variables in the dataset. An **independent variable** and a **dependent variable**. \n",
    "\n",
    "* **Chopstick.Length** - Refers to the length of the chopstick used by the individual (in mm). It is an **independent variable**.\n",
    "\n",
    "* **Food.Pinching.Efficiency** - Is defined as the number of peanuts picked and placed in a cup (PPPC) with the said length of chopstick. It is therefore a **dependent variable** in this study.   \n",
    "\n",
    "<u><b>Task 2</b></u> - **Based on this experiment decription and other information provided above, can you point out any _two_ controlled variables in this experiment?** \n",
    "\n",
    "_(Controlled variables are values that remain the same throughout the course of an experiment, and is not of primary concern to the experiment outcome)_"
   ]
  },
  {
   "cell_type": "code",
   "execution_count": 3,
   "metadata": {},
   "outputs": [],
   "source": [
    "## YOUR ANSWER HERE\n",
    "# controlled variable: number of college students, the material that the chopsticks are made from\n",
    "\n"
   ]
  },
  {
   "cell_type": "code",
   "execution_count": 4,
   "metadata": {},
   "outputs": [
    {
     "data": {
      "text/html": [
       "<div>\n",
       "<style scoped>\n",
       "    .dataframe tbody tr th:only-of-type {\n",
       "        vertical-align: middle;\n",
       "    }\n",
       "\n",
       "    .dataframe tbody tr th {\n",
       "        vertical-align: top;\n",
       "    }\n",
       "\n",
       "    .dataframe thead th {\n",
       "        text-align: right;\n",
       "    }\n",
       "</style>\n",
       "<table border=\"1\" class=\"dataframe\">\n",
       "  <thead>\n",
       "    <tr style=\"text-align: right;\">\n",
       "      <th></th>\n",
       "      <th>length</th>\n",
       "      <th>performance</th>\n",
       "    </tr>\n",
       "  </thead>\n",
       "  <tbody>\n",
       "    <tr>\n",
       "      <th>0</th>\n",
       "      <td>180</td>\n",
       "      <td>19.55</td>\n",
       "    </tr>\n",
       "    <tr>\n",
       "      <th>1</th>\n",
       "      <td>180</td>\n",
       "      <td>27.24</td>\n",
       "    </tr>\n",
       "    <tr>\n",
       "      <th>2</th>\n",
       "      <td>180</td>\n",
       "      <td>28.76</td>\n",
       "    </tr>\n",
       "    <tr>\n",
       "      <th>3</th>\n",
       "      <td>180</td>\n",
       "      <td>31.19</td>\n",
       "    </tr>\n",
       "    <tr>\n",
       "      <th>4</th>\n",
       "      <td>180</td>\n",
       "      <td>21.91</td>\n",
       "    </tr>\n",
       "  </tbody>\n",
       "</table>\n",
       "</div>"
      ],
      "text/plain": [
       "   length  performance\n",
       "0     180        19.55\n",
       "1     180        27.24\n",
       "2     180        28.76\n",
       "3     180        31.19\n",
       "4     180        21.91"
      ]
     },
     "execution_count": 4,
     "metadata": {},
     "output_type": "execute_result"
    }
   ],
   "source": [
    "# Task 3 - Clean the dataframe (OPTIONAL). \n",
    "# (i)  One of the columns here looks expendable. Remove that column\n",
    "# (ii) The independent variable should be the first column in a dataframe, followed by the dependent variable(s).\n",
    "ce = ce.drop(labels = 'Individual', axis = 1)\n",
    "ce.columns = ['performance', 'length']\n",
    "cols = ce.columns.tolist() \n",
    "# cols = cols[-1: ]+ cols[:-1]\n",
    "cols = cols[::-1]\n",
    "ce = ce[cols]\n",
    "ce.head()\n",
    "# YOUR ANSWER HERE\n",
    "\n"
   ]
  },
  {
   "cell_type": "code",
   "execution_count": 11,
   "metadata": {},
   "outputs": [
    {
     "data": {
      "text/plain": [
       "length\n",
       "180    24.935161\n",
       "210    25.483871\n",
       "240    26.322903\n",
       "270    24.323871\n",
       "300    24.968065\n",
       "330    23.999677\n",
       "Name: performance, dtype: float64"
      ]
     },
     "execution_count": 11,
     "metadata": {},
     "output_type": "execute_result"
    }
   ],
   "source": [
    "# Task 4 - Group the observations by Chopstick Length and find out \n",
    "# the mean Pinching Efficiency for each chopstick length\n",
    "ce_1  = ce.groupby('length')['performance'].mean()\n",
    "ce_1\n",
    "# YOUR ANSWER HERE\n",
    "\n"
   ]
  },
  {
   "cell_type": "code",
   "execution_count": 12,
   "metadata": {},
   "outputs": [
    {
     "data": {
      "text/plain": [
       "<matplotlib.axes._subplots.AxesSubplot at 0x1a2260ad68>"
      ]
     },
     "execution_count": 12,
     "metadata": {},
     "output_type": "execute_result"
    },
    {
     "data": {
      "image/png": "[encoded data removed]",
      "text/plain": [
       "<Figure size 432x288 with 1 Axes>"
      ]
     },
     "metadata": {
      "needs_background": "light"
     },
     "output_type": "display_data"
    }
   ],
   "source": [
    "# Task 5 - Plot a graph to visualise the relationship between Chopstick Length and Average Pinching Efficiency\n",
    "\n",
    "ce_1.plot(kind = 'bar')\n",
    "\n",
    "\n",
    "# YOUR ANSWER HERE\n",
    "\n",
    "\n"
   ]
  },
  {
   "cell_type": "markdown",
   "metadata": {},
   "source": [
    "Based on your graph above, what correlation can you see between **Chopstick Length** and **Food Pinching Efficiency**? "
   ]
  },
  {
   "cell_type": "code",
   "execution_count": 7,
   "metadata": {},
   "outputs": [],
   "source": [
    "# Task 6 - Correlation between Chopstick Length and Food Pinching Efficiency\n",
    "# Food Pinching Efficiency increases along with length from 180 to 240, and somehow decrease after 240.\n",
    "# YOUR ANSWER HERE\n",
    "\n",
    "\n"
   ]
  },
  {
   "cell_type": "markdown",
   "metadata": {},
   "source": [
    "### So, according to the above study which chopstick length performed the best for the group of thirty-one male junior college students? Do you agree with the claims of the given study?"
   ]
  },
  {
   "cell_type": "code",
   "execution_count": 8,
   "metadata": {},
   "outputs": [],
   "source": [
    "# Task 7 - Conclusion\n",
    "240\n",
    "# YOUR ANSWER HERE\n",
    "\n",
    "\n"
   ]
  },
  {
   "cell_type": "markdown",
   "metadata": {},
   "source": [
    "<h3 align='center'> Exercise 2 - Stroop Test</h3>\n",
    "\n",
    "In a **Stroop Test**, a participant is presented with a list of words, with each word displayed in a color of ink. The participant’s task is to say out loud the color of the ink in which the word is printed. The task has two conditions: \n",
    "\n",
    "(a) A **congruent words condition**, where the words being displayed are color words whose names match the colors in which they are printed: for example <span style='color:red;'><b>RED</b></span>, <span style='color:blue;'><b>BLUE</b></span>. \n",
    "\n",
    "(b) An **incongruent words condition**, where the words displayed are color words whose names do not match the colors in which they are printed: for example <span style='color:orange;'><b>PURPLE</b></span>, <span style='color:lightgreen;'><b>ORANGE</b></span>. \n",
    "\n",
    "_You can perform the Stroop Test yourself and compare your results with this dataset. This will also help you form a basis of your initial hypothesis for this experiment. Go to this link to try the [Stroop Test](https://faculty.washington.edu/chudler/java/ready.html)_.\n",
    "\n",
    "In each case, we measure the time it takes to name the ink colors in equally-sized lists. Each participant will go through and record a time from each condition.\n",
    "\n",
    "For such a test, \n",
    "\n",
    "\n",
    "### 1. What is our independent variable? What is our dependent variable?"
   ]
  },
  {
   "cell_type": "code",
   "execution_count": 9,
   "metadata": {},
   "outputs": [],
   "source": [
    "# Task 1 - Independent & Dependent Variables\n",
    "# YOUR ANSWER HERE\n",
    "# independent variables are words conditions\n",
    "# dependent variable is time\n",
    "\n"
   ]
  },
  {
   "cell_type": "markdown",
   "metadata": {},
   "source": [
    "### 2. What is an appropriate set of hypotheses for this task? What kind of statistical test do you expect to perform? Justify your choices."
   ]
  },
  {
   "cell_type": "code",
   "execution_count": 19,
   "metadata": {},
   "outputs": [],
   "source": [
    "# Task 2 - Hypotheses and Statistical Tests\n",
    "# YOUR ANSWER HERE\n",
    "# If the color the word is written in matches the word, it will be identified more quickly than if the color the word is written in is contradictory.        \n",
    "# A repeated measures design as each of the participants will take part in all conditions of the independent variable (Appendix D).\n",
    "# 20 people, 10 male and 10 female between the ages 16-60 from a Surrey Sixth form using an opportunity sample (Appendix E). The sample was approached in and around the sixth form block, including the common room, study room and sixth form canteen.\n",
    "\n",
    "\n"
   ]
  },
  {
   "cell_type": "markdown",
   "metadata": {},
   "source": [
    "### 3. Explore the given dataset of results for 25 participants performing the Stroop Test in Congruent and Incongruent conditions. Run some descriptive statistics on the dataset, including a measure of central tendency and a measure of variability. "
   ]
  },
  {
   "cell_type": "code",
   "execution_count": 28,
   "metadata": {},
   "outputs": [
    {
     "data": {
      "text/html": [
       "<div>\n",
       "<style scoped>\n",
       "    .dataframe tbody tr th:only-of-type {\n",
       "        vertical-align: middle;\n",
       "    }\n",
       "\n",
       "    .dataframe tbody tr th {\n",
       "        vertical-align: top;\n",
       "    }\n",
       "\n",
       "    .dataframe thead th {\n",
       "        text-align: right;\n",
       "    }\n",
       "</style>\n",
       "<table border=\"1\" class=\"dataframe\">\n",
       "  <thead>\n",
       "    <tr style=\"text-align: right;\">\n",
       "      <th></th>\n",
       "      <th>Congruent</th>\n",
       "      <th>Incongruent</th>\n",
       "    </tr>\n",
       "  </thead>\n",
       "  <tbody>\n",
       "    <tr>\n",
       "      <th>0</th>\n",
       "      <td>12.490</td>\n",
       "      <td>19.278</td>\n",
       "    </tr>\n",
       "    <tr>\n",
       "      <th>1</th>\n",
       "      <td>14.669</td>\n",
       "      <td>22.803</td>\n",
       "    </tr>\n",
       "    <tr>\n",
       "      <th>2</th>\n",
       "      <td>12.238</td>\n",
       "      <td>20.878</td>\n",
       "    </tr>\n",
       "    <tr>\n",
       "      <th>3</th>\n",
       "      <td>18.200</td>\n",
       "      <td>35.255</td>\n",
       "    </tr>\n",
       "    <tr>\n",
       "      <th>4</th>\n",
       "      <td>22.328</td>\n",
       "      <td>24.524</td>\n",
       "    </tr>\n",
       "    <tr>\n",
       "      <th>5</th>\n",
       "      <td>14.692</td>\n",
       "      <td>24.572</td>\n",
       "    </tr>\n",
       "    <tr>\n",
       "      <th>6</th>\n",
       "      <td>16.004</td>\n",
       "      <td>21.157</td>\n",
       "    </tr>\n",
       "    <tr>\n",
       "      <th>7</th>\n",
       "      <td>16.791</td>\n",
       "      <td>18.741</td>\n",
       "    </tr>\n",
       "    <tr>\n",
       "      <th>8</th>\n",
       "      <td>9.564</td>\n",
       "      <td>21.214</td>\n",
       "    </tr>\n",
       "    <tr>\n",
       "      <th>9</th>\n",
       "      <td>8.630</td>\n",
       "      <td>15.687</td>\n",
       "    </tr>\n",
       "    <tr>\n",
       "      <th>10</th>\n",
       "      <td>8.987</td>\n",
       "      <td>17.394</td>\n",
       "    </tr>\n",
       "    <tr>\n",
       "      <th>11</th>\n",
       "      <td>9.401</td>\n",
       "      <td>20.762</td>\n",
       "    </tr>\n",
       "    <tr>\n",
       "      <th>12</th>\n",
       "      <td>14.480</td>\n",
       "      <td>26.282</td>\n",
       "    </tr>\n",
       "    <tr>\n",
       "      <th>13</th>\n",
       "      <td>15.298</td>\n",
       "      <td>18.644</td>\n",
       "    </tr>\n",
       "    <tr>\n",
       "      <th>14</th>\n",
       "      <td>15.073</td>\n",
       "      <td>17.510</td>\n",
       "    </tr>\n",
       "    <tr>\n",
       "      <th>15</th>\n",
       "      <td>16.929</td>\n",
       "      <td>20.330</td>\n",
       "    </tr>\n",
       "    <tr>\n",
       "      <th>16</th>\n",
       "      <td>12.130</td>\n",
       "      <td>22.158</td>\n",
       "    </tr>\n",
       "    <tr>\n",
       "      <th>17</th>\n",
       "      <td>19.710</td>\n",
       "      <td>22.058</td>\n",
       "    </tr>\n",
       "    <tr>\n",
       "      <th>18</th>\n",
       "      <td>18.495</td>\n",
       "      <td>25.139</td>\n",
       "    </tr>\n",
       "    <tr>\n",
       "      <th>19</th>\n",
       "      <td>10.639</td>\n",
       "      <td>20.429</td>\n",
       "    </tr>\n",
       "    <tr>\n",
       "      <th>20</th>\n",
       "      <td>11.344</td>\n",
       "      <td>17.425</td>\n",
       "    </tr>\n",
       "    <tr>\n",
       "      <th>21</th>\n",
       "      <td>12.369</td>\n",
       "      <td>34.288</td>\n",
       "    </tr>\n",
       "    <tr>\n",
       "      <th>22</th>\n",
       "      <td>12.944</td>\n",
       "      <td>23.894</td>\n",
       "    </tr>\n",
       "    <tr>\n",
       "      <th>23</th>\n",
       "      <td>14.233</td>\n",
       "      <td>17.960</td>\n",
       "    </tr>\n",
       "  </tbody>\n",
       "</table>\n",
       "</div>"
      ],
      "text/plain": [
       "    Congruent  Incongruent\n",
       "0      12.490       19.278\n",
       "1      14.669       22.803\n",
       "2      12.238       20.878\n",
       "3      18.200       35.255\n",
       "4      22.328       24.524\n",
       "5      14.692       24.572\n",
       "6      16.004       21.157\n",
       "7      16.791       18.741\n",
       "8       9.564       21.214\n",
       "9       8.630       15.687\n",
       "10      8.987       17.394\n",
       "11      9.401       20.762\n",
       "12     14.480       26.282\n",
       "13     15.298       18.644\n",
       "14     15.073       17.510\n",
       "15     16.929       20.330\n",
       "16     12.130       22.158\n",
       "17     19.710       22.058\n",
       "18     18.495       25.139\n",
       "19     10.639       20.429\n",
       "20     11.344       17.425\n",
       "21     12.369       34.288\n",
       "22     12.944       23.894\n",
       "23     14.233       17.960"
      ]
     },
     "execution_count": 28,
     "metadata": {},
     "output_type": "execute_result"
    }
   ],
   "source": [
    "# Task 3 - Descriptive Statistics\n",
    "# EXPLORE THE GIVEN DATASET\n",
    "# YOUR ANSWER HERE\n",
    "sr_test = sr.head(25)\n",
    "sr_test"
   ]
  },
  {
   "cell_type": "code",
   "execution_count": 29,
   "metadata": {},
   "outputs": [
    {
     "data": {
      "text/html": [
       "<div>\n",
       "<style scoped>\n",
       "    .dataframe tbody tr th:only-of-type {\n",
       "        vertical-align: middle;\n",
       "    }\n",
       "\n",
       "    .dataframe tbody tr th {\n",
       "        vertical-align: top;\n",
       "    }\n",
       "\n",
       "    .dataframe thead th {\n",
       "        text-align: right;\n",
       "    }\n",
       "</style>\n",
       "<table border=\"1\" class=\"dataframe\">\n",
       "  <thead>\n",
       "    <tr style=\"text-align: right;\">\n",
       "      <th></th>\n",
       "      <th>Congruent</th>\n",
       "      <th>Incongruent</th>\n",
       "    </tr>\n",
       "  </thead>\n",
       "  <tbody>\n",
       "    <tr>\n",
       "      <th>count</th>\n",
       "      <td>24.000000</td>\n",
       "      <td>24.000000</td>\n",
       "    </tr>\n",
       "    <tr>\n",
       "      <th>mean</th>\n",
       "      <td>14.068250</td>\n",
       "      <td>22.015917</td>\n",
       "    </tr>\n",
       "    <tr>\n",
       "      <th>std</th>\n",
       "      <td>3.550435</td>\n",
       "      <td>4.797057</td>\n",
       "    </tr>\n",
       "    <tr>\n",
       "      <th>min</th>\n",
       "      <td>8.630000</td>\n",
       "      <td>15.687000</td>\n",
       "    </tr>\n",
       "    <tr>\n",
       "      <th>25%</th>\n",
       "      <td>11.933500</td>\n",
       "      <td>18.716750</td>\n",
       "    </tr>\n",
       "    <tr>\n",
       "      <th>50%</th>\n",
       "      <td>14.356500</td>\n",
       "      <td>21.017500</td>\n",
       "    </tr>\n",
       "    <tr>\n",
       "      <th>75%</th>\n",
       "      <td>16.200750</td>\n",
       "      <td>24.051500</td>\n",
       "    </tr>\n",
       "    <tr>\n",
       "      <th>max</th>\n",
       "      <td>22.328000</td>\n",
       "      <td>35.255000</td>\n",
       "    </tr>\n",
       "  </tbody>\n",
       "</table>\n",
       "</div>"
      ],
      "text/plain": [
       "       Congruent  Incongruent\n",
       "count  24.000000    24.000000\n",
       "mean   14.068250    22.015917\n",
       "std     3.550435     4.797057\n",
       "min     8.630000    15.687000\n",
       "25%    11.933500    18.716750\n",
       "50%    14.356500    21.017500\n",
       "75%    16.200750    24.051500\n",
       "max    22.328000    35.255000"
      ]
     },
     "execution_count": 29,
     "metadata": {},
     "output_type": "execute_result"
    }
   ],
   "source": [
    "# MEASURE OF CENTRAL TENDENCY\n",
    "# YOUR ANSWER HERE\n",
    "sr.describe()\n",
    "\n"
   ]
  },
  {
   "cell_type": "code",
   "execution_count": 30,
   "metadata": {},
   "outputs": [
    {
     "data": {
      "text/plain": [
       "Congruent      12.605585\n",
       "Incongruent    23.011757\n",
       "dtype: float64"
      ]
     },
     "execution_count": 30,
     "metadata": {},
     "output_type": "execute_result"
    }
   ],
   "source": [
    "# MEASURE OF VARIABILITY\n",
    "# YOUR ANSWER HERE\n",
    "sr.var()\n",
    "\n"
   ]
  },
  {
   "cell_type": "markdown",
   "metadata": {},
   "source": [
    "### 4. Provide a visualization that shows the distribution of the data in this dataset and compares the readings of the Congruent and Incongruent Conditions"
   ]
  },
  {
   "cell_type": "code",
   "execution_count": 37,
   "metadata": {},
   "outputs": [
    {
     "data": {
      "text/plain": [
       "([<matplotlib.axis.XTick at 0x1a23301470>,\n",
       "  <matplotlib.axis.XTick at 0x1a232e2e48>],\n",
       " <a list of 2 Text xticklabel objects>)"
      ]
     },
     "execution_count": 37,
     "metadata": {},
     "output_type": "execute_result"
    },
    {
     "data": {
      "image/png": "[encoded data removed]",
      "text/plain": [
       "<Figure size 432x288 with 1 Axes>"
      ]
     },
     "metadata": {
      "needs_background": "light"
     },
     "output_type": "display_data"
    }
   ],
   "source": [
    "# Task 4 - Visualization\n",
    "# YOUR ANSWER HERE\n",
    "x = sr_test.Congruent\n",
    "y = sr_test.Incongruent\n",
    "plt.boxplot([x,y])\n",
    "plt.xticks([1,2], ['Congruent', 'Incongruent'])\n"
   ]
  },
  {
   "cell_type": "markdown",
   "metadata": {},
   "source": [
    "### 5. Now, perform the statistical test and report your results. What is your confidence level and your critical statistic value? Do you reject the null hypothesis? What conclusion can you draw from the experiment task. "
   ]
  },
  {
   "cell_type": "code",
   "execution_count": 38,
   "metadata": {},
   "outputs": [
    {
     "data": {
      "text/plain": [
       "Ttest_relResult(statistic=-7.997650224943587, pvalue=4.310862414515775e-08)"
      ]
     },
     "execution_count": 38,
     "metadata": {},
     "output_type": "execute_result"
    }
   ],
   "source": [
    "# Task 5 - Statistical Tests\n",
    "# YOUR ANSWER HERE\n",
    "st.ttest_rel(x,y)\n",
    "\n"
   ]
  },
  {
   "cell_type": "code",
   "execution_count": null,
   "metadata": {},
   "outputs": [],
   "source": [
    "# As the p value is much lower than 0.05 we reject the null hypothesis and conclude that If the color the word is written in matches the word, it will be identified more quickly than if the color the word is written in is contradictory.  "
   ]
  }
 ],
 "metadata": {
  "kernelspec": {
   "display_name": "Python 3",
   "language": "python",
   "name": "python3"
  },
  "language_info": {
   "codemirror_mode": {
    "name": "ipython",
    "version": 3
   },
   "file_extension": ".py",
   "mimetype": "text/x-python",
   "name": "python",
   "nbconvert_exporter": "python",
   "pygments_lexer": "ipython3",
   "version": "3.7.1"
  }
 },
 "nbformat": 4,
 "nbformat_minor": 2
}
